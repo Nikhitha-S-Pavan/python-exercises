{
 "cells": [
  {
   "cell_type": "code",
   "execution_count": null,
   "metadata": {},
   "outputs": [],
   "source": [
    "# 1. Create the below pattern using nested for loop in Python. \n",
    "#   * \n",
    "#   * *  \n",
    "#   * * * \n",
    "#   * * * * \n",
    "#   * * * * * \n",
    "#   * * * * \n",
    "#   * * * \n",
    "#   * * \n",
    "#   * \n",
    "\n",
    "for i in range(0,10):   \n",
    "        if i<=5:\n",
    "            j=i\n",
    "            print(\"* \"*j)\n",
    "            i=i+1\n",
    "        elif i>5:\n",
    "            for k in range(4, 0, -1):\n",
    "                print(\"* \"*k)\n",
    "            break"
   ]
  },
  {
   "cell_type": "code",
   "execution_count": null,
   "metadata": {},
   "outputs": [],
   "source": [
    "# 2. Write a Python program to reverse a word after accepting the input from the user.\n",
    "\n",
    "user_input = input(\"Enter the word to be reversed : \")\n",
    "reverse = []\n",
    "for i in range(len(user_input)-1,-1,-1):\n",
    "    reverse.append(user_input[i])\n",
    "reverse_word = \"\".join(reverse)\n",
    "print(reverse_word)"
   ]
  }
 ],
 "metadata": {
  "kernelspec": {
   "display_name": "Python [conda env:root] *",
   "language": "python",
   "name": "conda-root-py"
  },
  "language_info": {
   "codemirror_mode": {
    "name": "ipython",
    "version": 3
   },
   "file_extension": ".py",
   "mimetype": "text/x-python",
   "name": "python",
   "nbconvert_exporter": "python",
   "pygments_lexer": "ipython3",
   "version": "3.7.4"
  }
 },
 "nbformat": 4,
 "nbformat_minor": 2
}
