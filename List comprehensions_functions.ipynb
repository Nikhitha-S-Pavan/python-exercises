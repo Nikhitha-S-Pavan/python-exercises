{
 "cells": [
  {
   "cell_type": "code",
   "execution_count": null,
   "metadata": {},
   "outputs": [],
   "source": [
    "# 1.1 Write a Python Program to implement your own myreduce() function which works exactly\n",
    "# like Python's built-in function reduce()\n",
    "\n",
    "def myreduce(anyfunc, num_list):\n",
    "    \"\"\"This function will redirect to the specific function and performs the operation \n",
    "\n",
    "    :param anyfunc:function which will return the product of all values in list\n",
    "    :param num_list: list of values\"\"\"\n",
    "    return anyfunc(num_list)\n",
    "    \n",
    "    \n",
    "def product(num_list):\n",
    "    \"\"\"Function which will return the product of all values in list\n",
    "    \n",
    "    :param num_list: list of values\n",
    "    :return : product of all values in list\n",
    "    \"\"\"\n",
    "    product = 1\n",
    "    for num in num_list:\n",
    "        product = product * num\n",
    "    return product\n",
    "myreduce(product, num_list = [1, 2, 3, 4])  "
   ]
  },
  {
   "cell_type": "code",
   "execution_count": null,
   "metadata": {},
   "outputs": [],
   "source": [
    "# 1.2 Write a Python program to implement your own myfilter() function which works exactly\n",
    "# like Python's built-in function filter()\n",
    "\n",
    "def myfilter(my_list):\n",
    "    \"\"\"This function will filter numbers from list which are multiples of 2\n",
    "    \n",
    "    :param num_list: list of values\"\"\"\n",
    "    for num in my_list:\n",
    "        if num%2 == 0:\n",
    "            print(num)\n",
    "myfilter(my_list = [1, 3, 10, 45, 6, 50])"
   ]
  },
  {
   "cell_type": "code",
   "execution_count": null,
   "metadata": {},
   "outputs": [],
   "source": [
    "# 2. Implement List comprehensions to produce the following lists.\n",
    "# Write List comprehensions to produce the following Lists\n",
    "\n",
    "mylist = [\"x\", \"y\", \"z\"]\n",
    "\n",
    "# 1 ['x', 'xx', 'xxx', 'xxxx', 'y', 'yy', 'yyy', 'yyyy', 'z', 'zz', 'zzz', 'zzzz']\n",
    "\n",
    "result = [val * i for val in mylist for i in range(1, 5)]\n",
    "print(result)\n",
    "\n",
    "# 2 ['x', 'y', 'z', 'xx', 'yy', 'zz', 'xxx', 'yyy', 'zzz', 'xxxx', 'yyyy', 'zzzz']\n",
    "\n",
    "result = [i * val for i in range(1, 5) for val in mylist]\n",
    "print(result)\n",
    "\n",
    "# 3 [[2], [3], [4], [3], [4], [5], [4], [5], [6]] [[2, 3, 4, 5], [3, 4, 5, 6], [4, 5, 6, 7], [5, 6, 7, 8]]\n",
    "\n",
    "res = [[[val + 2 + j] for val in range(0, 3) for j in range(0, 3)], [[i + j for j in range(2, 6)] for i in range(0, 4)]]\n",
    "print(res[0], res[1])\n",
    "\n",
    "# 4 [(1, 1), (2, 1), (3, 1), (1, 2), (2, 2), (3, 2), (1, 3), (2, 3), (3, 3)]\n",
    "\n",
    "arr = [(j, i) for i in range(1, 4) for j in range(1, 4)]\n",
    "print(arr)"
   ]
  }
 ],
 "metadata": {
  "kernelspec": {
   "display_name": "Python [conda env:root] *",
   "language": "python",
   "name": "conda-root-py"
  },
  "language_info": {
   "codemirror_mode": {
    "name": "ipython",
    "version": 3
   },
   "file_extension": ".py",
   "mimetype": "text/x-python",
   "name": "python",
   "nbconvert_exporter": "python",
   "pygments_lexer": "ipython3",
   "version": "3.7.4"
  }
 },
 "nbformat": 4,
 "nbformat_minor": 2
}
