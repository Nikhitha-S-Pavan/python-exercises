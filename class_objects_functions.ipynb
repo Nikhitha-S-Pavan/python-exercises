{
 "cells": [
  {
   "cell_type": "code",
   "execution_count": null,
   "metadata": {},
   "outputs": [],
   "source": [
    "# 1.1 Write a Python Program(with class concepts) to find the area of the triangle using the below\n",
    "# formula.\n",
    "# area = (s*(s-a)*(s-b)*(s-c)) ** 0.5\n",
    "\n",
    "class area_triangle:\n",
    "    \"\"\"Calculate area if triangle\"\"\"\n",
    "\n",
    "    def __init__(self, a, b, c):\n",
    "        self.a = float(a)\n",
    "        self.b = float(b)\n",
    "        self.c = float(c)\n",
    "\n",
    "    # print(a,b,c)\n",
    "    def get_area(self):\n",
    "        \"\"\"Get area of triangle\"\"\"\n",
    "        s = (self.a + self.b + self.c) / 2\n",
    "        area = float(s * (s - self.a) * (s - self.b) * (s - self.c)) ** 0.5\n",
    "        return area\n",
    "\n",
    "a = 1\n",
    "b = 1\n",
    "c = 1\n",
    "area = area_triangle(a, b, c)\n",
    "result = area.get_area()\n",
    "print(result)"
   ]
  },
  {
   "cell_type": "code",
   "execution_count": null,
   "metadata": {},
   "outputs": [],
   "source": [
    "# 1.2 Write a function filter_long_words() that takes a list of words and an integer n and returns the list of words that are longer than n.\n",
    "\n",
    "def filter_long_words(words_list, n):\n",
    "    \"\"\"Filter words which is grether than 'n'\n",
    "\n",
    "    :param word_list: list of words\n",
    "    :param n: length of word\n",
    "\n",
    "    :return: filtered list\n",
    "    \"\"\"\n",
    "    result = []\n",
    "    for word in words_list:\n",
    "        if len(word) > n:\n",
    "            result.append(word)\n",
    "    return result\n",
    "\n",
    "words_list = [\"hello\", \"all\", \"how \", \"is\", \"it\", \"going\", \"?\"]\n",
    "n = 2\n",
    "print(filter_long_words(words_list, n))"
   ]
  },
  {
   "cell_type": "code",
   "execution_count": null,
   "metadata": {},
   "outputs": [],
   "source": [
    "# 2.1 Write a Python program using function concept that maps list of words into a list of integers representing the lengths of the corresponding words.\n",
    "# Hint: If a list [ ab,cde,erty] is passed on to the python function output should come as [2,3,4] Here 2,3 and 4 are the lengths of the words in the list.\n",
    "\n",
    "def word_length(words_list):\n",
    "    \"\"\"Map list of words into a list of integers\n",
    "\n",
    "    :param words_list: list of words\n",
    "\n",
    "    :return: list of integers\"\"\"\n",
    "    result = []\n",
    "    for word in words_list:\n",
    "        result.append(len(word))\n",
    "    return result\n",
    "\n",
    "words_list = [\"Hello\", \"all...\", \"how \", \"is\", \"it\", \"going\", \"???\"]\n",
    "print(word_length(words_list))"
   ]
  },
  {
   "cell_type": "code",
   "execution_count": null,
   "metadata": {},
   "outputs": [],
   "source": [
    "# 2.2 Write a Python function which takes a character (i.e. a string of length 1) and returns True if it is a vowel, False otherwise.\n",
    "\n",
    "def check_vowel(input):\n",
    "    \"\"\"Check wether given input is vowel or not\n",
    "\n",
    "    :param input: input character i.e string\n",
    "\n",
    "    :return : Bool value\"\"\"\n",
    "    vowels = [\"a\", \"e\", \"i\", \"o\", \"u\", \"A\", \"E\", \"I\", \"O\", \"U\"]\n",
    "    if input in vowels:\n",
    "        return True\n",
    "    else:\n",
    "        return False\n",
    "\n",
    "print(check_vowel(\"a\"))"
   ]
  },
  {
   "cell_type": "code",
   "execution_count": null,
   "metadata": {},
   "outputs": [],
   "source": []
  }
 ],
 "metadata": {
  "kernelspec": {
   "display_name": "Python [conda env:root] *",
   "language": "python",
   "name": "conda-root-py"
  },
  "language_info": {
   "codemirror_mode": {
    "name": "ipython",
    "version": 3
   },
   "file_extension": ".py",
   "mimetype": "text/x-python",
   "name": "python",
   "nbconvert_exporter": "python",
   "pygments_lexer": "ipython3",
   "version": "3.7.4"
  }
 },
 "nbformat": 4,
 "nbformat_minor": 2
}
